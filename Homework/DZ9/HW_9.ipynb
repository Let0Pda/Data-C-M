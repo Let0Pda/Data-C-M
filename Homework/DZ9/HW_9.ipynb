{
  "cells": [
    {
      "cell_type": "markdown",
      "metadata": {
        "id": "PBwKZU07juEw"
      },
      "source": [
        "Кошелев А"
      ]
    },
    {
      "cell_type": "markdown",
      "metadata": {
        "id": "7vJ1eMMjo37z"
      },
      "source": [
        "#\n",
        "## Урок 9. Инструменты разметки наборов данных.  \n",
        "#### Задание 1.\n",
        "\n",
        "Выберите датасет, который имеет отношение к вашей области интересов или исследований. Датасет должен содержать неструктурированные данные, требующие разметки для решения конкретной задачи, например, анализа настроений или распознавания именованных сущностей.\n",
        "\n",
        "##### Источник датасета:\n",
        "\n",
        "https://www.kaggle.com/datasets/coltonbarger/rotten-tomatoes-reviews-for-online-streaming-shows\n",
        "\n",
        "##### Описание датасета:  \n",
        "Обзоры сайта-агрегатора рецензий Rotten Tomatoes на онлайн-трансляции шоу.\n",
        "\n",
        "Это сборник отзывов критиков и зрителей о 685 различных онлайн-трансляциях Rotten Tomatoes.\n",
        "Информация была собрана за неделю, начиная с 10 июля 2022 года.\n",
        "Отзывы, обнаруженные в файлах, в большинстве случаев являются предварительными просмотрами, особенно если рецензия критика длинная.\n",
        "Также имеются дубликаты некоторых отзывов в случае, если шоу доступно на нескольких онлайн-сервисах потоковой передачи (платных или подписочных).\n",
        "\n",
        "Были собраны данные о 100 самых популярных шоу на 9 потоковых платформах:\n",
        "\"Apple TV+\", \"Paramount+\", \"HBO MAX\", \"Disney+\", \"Prime Video\", \"Hulu\", \"Netflix\", \"Peacock\" и \"VUDU\".\n",
        "Не для всех шоу имеются отзывы о сервисе. Многие шоу остались без отзывов ни от критиков, ни от зрителей. На некоторых платформах также отсутствуют 100 шоу из-за их более позднего выхода. Например, это относится к Apple TV+.\n",
        "Кроме того, Rotten Tomatoes, по-видимому, часто находится в состоянии неработоспособности из-за технического обслуживания. Это существенно повлияло на сбор отзывов, и нет гарантии, что все отзывы были собраны.\n",
        "\n",
        "Файл с отзывами критиков: __critic_reviews.csv__  \n",
        "Столбцы:  \n",
        "Show - название рецензируемого шоу,  \n",
        "Sentiment - оценка критика (1 для положительной, 0 для отрицательной),  \n",
        "Review - текст обзора."
      ]
    },
    {
      "cell_type": "code",
      "execution_count": 1,
      "metadata": {
        "id": "9qsVWZW9mW_h"
      },
      "outputs": [],
      "source": [
        "import pandas as pd\n",
        "import numpy as np\n",
        "from sklearn.feature_extraction.text import TfidfVectorizer\n",
        "from sklearn.linear_model import LogisticRegression\n",
        "from sklearn.model_selection import train_test_split\n",
        "from sklearn.metrics import f1_score\n",
        "from sklearn.utils import shuffle\n"
      ]
    },
    {
      "cell_type": "code",
      "execution_count": 2,
      "metadata": {
        "colab": {
          "base_uri": "https://localhost:8080/",
          "height": 206
        },
        "id": "4vNyk4akobEO",
        "outputId": "94376324-be1c-410f-b89a-6581c4c34e0e"
      },
      "outputs": [
        {
          "data": {
            "text/html": [
              "<div>\n",
              "<style scoped>\n",
              "    .dataframe tbody tr th:only-of-type {\n",
              "        vertical-align: middle;\n",
              "    }\n",
              "\n",
              "    .dataframe tbody tr th {\n",
              "        vertical-align: top;\n",
              "    }\n",
              "\n",
              "    .dataframe thead th {\n",
              "        text-align: right;\n",
              "    }\n",
              "</style>\n",
              "<table border=\"1\" class=\"dataframe\">\n",
              "  <thead>\n",
              "    <tr style=\"text-align: right;\">\n",
              "      <th></th>\n",
              "      <th>Show</th>\n",
              "      <th>Sentiment</th>\n",
              "      <th>Review</th>\n",
              "    </tr>\n",
              "  </thead>\n",
              "  <tbody>\n",
              "    <tr>\n",
              "      <th>0</th>\n",
              "      <td>Mare of Easttown</td>\n",
              "      <td>1</td>\n",
              "      <td>I’m not sure I have engaged in appointment vie...</td>\n",
              "    </tr>\n",
              "    <tr>\n",
              "      <th>1</th>\n",
              "      <td>Mare of Easttown</td>\n",
              "      <td>1</td>\n",
              "      <td>Kate is marvelous; she truly is Mare. She disa...</td>\n",
              "    </tr>\n",
              "    <tr>\n",
              "      <th>2</th>\n",
              "      <td>Mare of Easttown</td>\n",
              "      <td>1</td>\n",
              "      <td>That’s the thing I’ve loved most about Mare: t...</td>\n",
              "    </tr>\n",
              "    <tr>\n",
              "      <th>3</th>\n",
              "      <td>Mare of Easttown</td>\n",
              "      <td>1</td>\n",
              "      <td>Boasting Kate Winslet in the title role, twist...</td>\n",
              "    </tr>\n",
              "    <tr>\n",
              "      <th>4</th>\n",
              "      <td>Mare of Easttown</td>\n",
              "      <td>1</td>\n",
              "      <td>Performances in which madness, psychopathy or ...</td>\n",
              "    </tr>\n",
              "  </tbody>\n",
              "</table>\n",
              "</div>"
            ],
            "text/plain": [
              "               Show  Sentiment  \\\n",
              "0  Mare of Easttown          1   \n",
              "1  Mare of Easttown          1   \n",
              "2  Mare of Easttown          1   \n",
              "3  Mare of Easttown          1   \n",
              "4  Mare of Easttown          1   \n",
              "\n",
              "                                              Review  \n",
              "0  I’m not sure I have engaged in appointment vie...  \n",
              "1  Kate is marvelous; she truly is Mare. She disa...  \n",
              "2  That’s the thing I’ve loved most about Mare: t...  \n",
              "3  Boasting Kate Winslet in the title role, twist...  \n",
              "4  Performances in which madness, psychopathy or ...  "
            ]
          },
          "execution_count": 2,
          "metadata": {},
          "output_type": "execute_result"
        }
      ],
      "source": [
        "reviews = pd.read_csv(\"critic_reviews.csv\", engine='python', encoding='utf-8', on_bad_lines=\"skip\", encoding_errors=\"ignore\")\n",
        "reviews.head()\n"
      ]
    },
    {
      "cell_type": "code",
      "execution_count": 3,
      "metadata": {
        "colab": {
          "base_uri": "https://localhost:8080/"
        },
        "id": "426ispq4sWJ_",
        "outputId": "75239524-cc9a-470f-ba01-5f6936ab2b62"
      },
      "outputs": [
        {
          "name": "stdout",
          "output_type": "stream",
          "text": [
            "<class 'pandas.core.frame.DataFrame'>\n",
            "RangeIndex: 14791 entries, 0 to 14790\n",
            "Data columns (total 3 columns):\n",
            " #   Column     Non-Null Count  Dtype \n",
            "---  ------     --------------  ----- \n",
            " 0   Show       14791 non-null  object\n",
            " 1   Sentiment  14791 non-null  int64 \n",
            " 2   Review     14790 non-null  object\n",
            "dtypes: int64(1), object(2)\n",
            "memory usage: 346.8+ KB\n"
          ]
        }
      ],
      "source": [
        "reviews.info()\n"
      ]
    },
    {
      "cell_type": "code",
      "execution_count": 4,
      "metadata": {
        "colab": {
          "base_uri": "https://localhost:8080/",
          "height": 447
        },
        "id": "i2MH-Qhbsb-j",
        "outputId": "442f61ef-4359-463b-f290-1b4d60d9eedb"
      },
      "outputs": [
        {
          "data": {
            "text/plain": [
              "<Axes: >"
            ]
          },
          "execution_count": 4,
          "metadata": {},
          "output_type": "execute_result"
        },
        {
          "data": {
            "image/png": "[encoded data removed]",
            "text/plain": [
              "<Figure size 640x480 with 1 Axes>"
            ]
          },
          "metadata": {},
          "output_type": "display_data"
        }
      ],
      "source": [
        "reviews['Sentiment'].hist()\n"
      ]
    },
    {
      "cell_type": "markdown",
      "metadata": {
        "id": "n9ZW2cgxslhW"
      },
      "source": [
        "#### Задание 2.\n",
        "\n",
        "Выполните разметку на основе правил (rule-based labeling) на подмножестве выбранного датасета. Разработайте и реализуйте набор правил или условий, которые позволят автоматически присваивать метки данным на основе определенных шаблонов или критериев. "
      ]
    },
    {
      "cell_type": "code",
      "execution_count": 5,
      "metadata": {
        "colab": {
          "base_uri": "https://localhost:8080/",
          "height": 424
        },
        "id": "ZEmlNQFbspwk",
        "outputId": "74b9077d-aa1e-450d-a566-67185712531f"
      },
      "outputs": [
        {
          "data": {
            "text/html": [
              "<div>\n",
              "<style scoped>\n",
              "    .dataframe tbody tr th:only-of-type {\n",
              "        vertical-align: middle;\n",
              "    }\n",
              "\n",
              "    .dataframe tbody tr th {\n",
              "        vertical-align: top;\n",
              "    }\n",
              "\n",
              "    .dataframe thead th {\n",
              "        text-align: right;\n",
              "    }\n",
              "</style>\n",
              "<table border=\"1\" class=\"dataframe\">\n",
              "  <thead>\n",
              "    <tr style=\"text-align: right;\">\n",
              "      <th></th>\n",
              "      <th>Show</th>\n",
              "      <th>Sentiment</th>\n",
              "      <th>Review</th>\n",
              "    </tr>\n",
              "  </thead>\n",
              "  <tbody>\n",
              "    <tr>\n",
              "      <th>14625</th>\n",
              "      <td>Forever</td>\n",
              "      <td>1</td>\n",
              "      <td>With a distinct brand of pitch-black humor, su...</td>\n",
              "    </tr>\n",
              "    <tr>\n",
              "      <th>10315</th>\n",
              "      <td>The Act</td>\n",
              "      <td>1</td>\n",
              "      <td>The series is so cleverly layered and edited t...</td>\n",
              "    </tr>\n",
              "    <tr>\n",
              "      <th>12603</th>\n",
              "      <td>The Queen's Gambit</td>\n",
              "      <td>0</td>\n",
              "      <td>While it is frustrating to see Black character...</td>\n",
              "    </tr>\n",
              "    <tr>\n",
              "      <th>3096</th>\n",
              "      <td>The Staircase</td>\n",
              "      <td>0</td>\n",
              "      <td>The problem is, in a good fictional crime stor...</td>\n",
              "    </tr>\n",
              "    <tr>\n",
              "      <th>2565</th>\n",
              "      <td>Waco</td>\n",
              "      <td>0</td>\n",
              "      <td>The show creates its own problems in telling t...</td>\n",
              "    </tr>\n",
              "    <tr>\n",
              "      <th>...</th>\n",
              "      <td>...</td>\n",
              "      <td>...</td>\n",
              "      <td>...</td>\n",
              "    </tr>\n",
              "    <tr>\n",
              "      <th>31</th>\n",
              "      <td>Mare of Easttown</td>\n",
              "      <td>1</td>\n",
              "      <td>Mare of Easttown won with the old television s...</td>\n",
              "    </tr>\n",
              "    <tr>\n",
              "      <th>5107</th>\n",
              "      <td>His Dark Materials</td>\n",
              "      <td>1</td>\n",
              "      <td>The season 2 premiere of His Dark Materials se...</td>\n",
              "    </tr>\n",
              "    <tr>\n",
              "      <th>14470</th>\n",
              "      <td>Dan Brown's The Lost Symbol</td>\n",
              "      <td>1</td>\n",
              "      <td>If The Lost Symbol plays it right, the series ...</td>\n",
              "    </tr>\n",
              "    <tr>\n",
              "      <th>11863</th>\n",
              "      <td>Squid Game</td>\n",
              "      <td>1</td>\n",
              "      <td>Squid Game is a rousing, disturbing, candy-coa...</td>\n",
              "    </tr>\n",
              "    <tr>\n",
              "      <th>10872</th>\n",
              "      <td>Buffy the Vampire Slayer</td>\n",
              "      <td>0</td>\n",
              "      <td>I... didn't really like this season. More clun...</td>\n",
              "    </tr>\n",
              "  </tbody>\n",
              "</table>\n",
              "<p>7395 rows × 3 columns</p>\n",
              "</div>"
            ],
            "text/plain": [
              "                              Show  Sentiment  \\\n",
              "14625                      Forever          1   \n",
              "10315                      The Act          1   \n",
              "12603           The Queen's Gambit          0   \n",
              "3096                 The Staircase          0   \n",
              "2565                          Waco          0   \n",
              "...                            ...        ...   \n",
              "31                Mare of Easttown          1   \n",
              "5107            His Dark Materials          1   \n",
              "14470  Dan Brown's The Lost Symbol          1   \n",
              "11863                   Squid Game          1   \n",
              "10872     Buffy the Vampire Slayer          0   \n",
              "\n",
              "                                                  Review  \n",
              "14625  With a distinct brand of pitch-black humor, su...  \n",
              "10315  The series is so cleverly layered and edited t...  \n",
              "12603  While it is frustrating to see Black character...  \n",
              "3096   The problem is, in a good fictional crime stor...  \n",
              "2565   The show creates its own problems in telling t...  \n",
              "...                                                  ...  \n",
              "31     Mare of Easttown won with the old television s...  \n",
              "5107   The season 2 premiere of His Dark Materials se...  \n",
              "14470  If The Lost Symbol plays it right, the series ...  \n",
              "11863  Squid Game is a rousing, disturbing, candy-coa...  \n",
              "10872  I... didn't really like this season. More clun...  \n",
              "\n",
              "[7395 rows x 3 columns]"
            ]
          },
          "execution_count": 5,
          "metadata": {},
          "output_type": "execute_result"
        }
      ],
      "source": [
        "# размеченное и неразмеченное подмножества данных\n",
        "reviews = shuffle(reviews)\n",
        "labeled_reviews, unlabeled_reviews = train_test_split(reviews, train_size=0.5, random_state=42)\n",
        "labeled_reviews\n"
      ]
    },
    {
      "cell_type": "code",
      "execution_count": 6,
      "metadata": {
        "colab": {
          "base_uri": "https://localhost:8080/"
        },
        "id": "jgT_LoiVs7h6",
        "outputId": "50dcdcaf-6659-40c7-9f92-0c45d413f563"
      },
      "outputs": [
        {
          "name": "stdout",
          "output_type": "stream",
          "text": [
            "<class 'pandas.core.frame.DataFrame'>\n",
            "Index: 7395 entries, 14625 to 10872\n",
            "Data columns (total 3 columns):\n",
            " #   Column     Non-Null Count  Dtype \n",
            "---  ------     --------------  ----- \n",
            " 0   Show       7395 non-null   object\n",
            " 1   Sentiment  7395 non-null   int64 \n",
            " 2   Review     7395 non-null   object\n",
            "dtypes: int64(1), object(2)\n",
            "memory usage: 231.1+ KB\n"
          ]
        }
      ],
      "source": [
        "labeled_reviews.info()\n"
      ]
    },
    {
      "cell_type": "code",
      "execution_count": 7,
      "metadata": {
        "colab": {
          "base_uri": "https://localhost:8080/",
          "height": 206
        },
        "id": "XgWlyX_3tEcR",
        "outputId": "be2d53b1-d730-4e4a-f4a9-5ef49fbf2169"
      },
      "outputs": [
        {
          "data": {
            "text/html": [
              "<div>\n",
              "<style scoped>\n",
              "    .dataframe tbody tr th:only-of-type {\n",
              "        vertical-align: middle;\n",
              "    }\n",
              "\n",
              "    .dataframe tbody tr th {\n",
              "        vertical-align: top;\n",
              "    }\n",
              "\n",
              "    .dataframe thead th {\n",
              "        text-align: right;\n",
              "    }\n",
              "</style>\n",
              "<table border=\"1\" class=\"dataframe\">\n",
              "  <thead>\n",
              "    <tr style=\"text-align: right;\">\n",
              "      <th></th>\n",
              "      <th>Show</th>\n",
              "      <th>Sentiment</th>\n",
              "      <th>Review</th>\n",
              "    </tr>\n",
              "  </thead>\n",
              "  <tbody>\n",
              "    <tr>\n",
              "      <th>9384</th>\n",
              "      <td>The Haunting of Hill House</td>\n",
              "      <td>1</td>\n",
              "      <td>Like this year's best horror film Hereditary, ...</td>\n",
              "    </tr>\n",
              "    <tr>\n",
              "      <th>8525</th>\n",
              "      <td>Reacher</td>\n",
              "      <td>1</td>\n",
              "      <td>The television equivalent of an airport novel....</td>\n",
              "    </tr>\n",
              "    <tr>\n",
              "      <th>13132</th>\n",
              "      <td>The Crown</td>\n",
              "      <td>0</td>\n",
              "      <td>The show seriously falters with Diana... The C...</td>\n",
              "    </tr>\n",
              "    <tr>\n",
              "      <th>7719</th>\n",
              "      <td>The Boys</td>\n",
              "      <td>0</td>\n",
              "      <td>You finish each episode with a nasty taste in ...</td>\n",
              "    </tr>\n",
              "    <tr>\n",
              "      <th>4966</th>\n",
              "      <td>The Sex Lives of College Girls</td>\n",
              "      <td>1</td>\n",
              "      <td>A rare TV show that really delves into the mul...</td>\n",
              "    </tr>\n",
              "  </tbody>\n",
              "</table>\n",
              "</div>"
            ],
            "text/plain": [
              "                                 Show  Sentiment  \\\n",
              "9384       The Haunting of Hill House          1   \n",
              "8525                          Reacher          1   \n",
              "13132                       The Crown          0   \n",
              "7719                         The Boys          0   \n",
              "4966   The Sex Lives of College Girls          1   \n",
              "\n",
              "                                                  Review  \n",
              "9384   Like this year's best horror film Hereditary, ...  \n",
              "8525   The television equivalent of an airport novel....  \n",
              "13132  The show seriously falters with Diana... The C...  \n",
              "7719   You finish each episode with a nasty taste in ...  \n",
              "4966   A rare TV show that really delves into the mul...  "
            ]
          },
          "execution_count": 7,
          "metadata": {},
          "output_type": "execute_result"
        }
      ],
      "source": [
        "unlabeled_reviews.head()\n"
      ]
    },
    {
      "cell_type": "code",
      "execution_count": 8,
      "metadata": {
        "colab": {
          "base_uri": "https://localhost:8080/"
        },
        "id": "JItVaNjetPc4",
        "outputId": "630c2c10-a193-4812-97c8-5ed16d82481f"
      },
      "outputs": [
        {
          "name": "stdout",
          "output_type": "stream",
          "text": [
            "<class 'pandas.core.frame.DataFrame'>\n",
            "Index: 7396 entries, 9384 to 5516\n",
            "Data columns (total 3 columns):\n",
            " #   Column     Non-Null Count  Dtype \n",
            "---  ------     --------------  ----- \n",
            " 0   Show       7396 non-null   object\n",
            " 1   Sentiment  7396 non-null   int64 \n",
            " 2   Review     7395 non-null   object\n",
            "dtypes: int64(1), object(2)\n",
            "memory usage: 231.1+ KB\n"
          ]
        }
      ],
      "source": [
        "unlabeled_reviews.info()\n"
      ]
    },
    {
      "cell_type": "code",
      "execution_count": 9,
      "metadata": {
        "id": "kIEF9jUotVmB"
      },
      "outputs": [],
      "source": [
        "# Обучение модели на размеченных данных\n",
        "def train_model(labeled_data):\n",
        "    vect = TfidfVectorizer()\n",
        "    x = vect.fit_transform(labeled_data['Review'])\n",
        "    y = labeled_data['Sentiment']\n",
        "    model = LogisticRegression()\n",
        "    model.fit(x,y)\n",
        "    return model, vect\n",
        "\n",
        "model, vect = train_model(labeled_reviews)\n"
      ]
    },
    {
      "cell_type": "code",
      "execution_count": 10,
      "metadata": {
        "colab": {
          "base_uri": "https://localhost:8080/"
        },
        "id": "tCus-8Eotcsz",
        "outputId": "a4289a78-3aec-4ff8-bcc6-a3750894b23c"
      },
      "outputs": [
        {
          "name": "stdout",
          "output_type": "stream",
          "text": [
            "<class 'pandas.core.frame.DataFrame'>\n",
            "Index: 7395 entries, 9384 to 5516\n",
            "Data columns (total 3 columns):\n",
            " #   Column     Non-Null Count  Dtype \n",
            "---  ------     --------------  ----- \n",
            " 0   Show       7395 non-null   object\n",
            " 1   Sentiment  7395 non-null   int64 \n",
            " 2   Review     7395 non-null   object\n",
            "dtypes: int64(1), object(2)\n",
            "memory usage: 231.1+ KB\n"
          ]
        }
      ],
      "source": [
        "unlabeled_reviews = unlabeled_reviews.dropna()\n",
        "unlabeled_reviews.info()\n"
      ]
    },
    {
      "cell_type": "code",
      "execution_count": 11,
      "metadata": {
        "id": "wDE0F5C0tmzA"
      },
      "outputs": [],
      "source": [
        "x_unlabeled = vect.transform(unlabeled_reviews['Review'])\n",
        "y_unlabeled_predicted = model.predict(x_unlabeled)\n"
      ]
    },
    {
      "cell_type": "code",
      "execution_count": 13,
      "metadata": {
        "colab": {
          "base_uri": "https://localhost:8080/"
        },
        "id": "wOMnP7tJtq1c",
        "outputId": "f6220ca2-0c40-45f4-f406-a263e870c571"
      },
      "outputs": [],
      "source": [
        "y_unlabeled_proba = model.predict_proba(x_unlabeled)\n",
        "uncertainty = -(y_unlabeled_proba * np.log2(y_unlabeled_proba)).sum(axis=1)\n"
      ]
    },
    {
      "cell_type": "code",
      "execution_count": 14,
      "metadata": {},
      "outputs": [
        {
          "data": {
            "text/plain": [
              "array([0.50897656, 0.48865044, 0.53177423, ..., 0.87494185, 0.49905525,\n",
              "       0.55689057])"
            ]
          },
          "execution_count": 14,
          "metadata": {},
          "output_type": "execute_result"
        }
      ],
      "source": [
        "uncertainty\n"
      ]
    },
    {
      "cell_type": "code",
      "execution_count": 15,
      "metadata": {
        "colab": {
          "base_uri": "https://localhost:8080/",
          "height": 424
        },
        "id": "ZN-xCvqbtxt3",
        "outputId": "b7d669b9-3268-42f2-d342-37ef0f12199d"
      },
      "outputs": [
        {
          "data": {
            "text/html": [
              "<div>\n",
              "<style scoped>\n",
              "    .dataframe tbody tr th:only-of-type {\n",
              "        vertical-align: middle;\n",
              "    }\n",
              "\n",
              "    .dataframe tbody tr th {\n",
              "        vertical-align: top;\n",
              "    }\n",
              "\n",
              "    .dataframe thead th {\n",
              "        text-align: right;\n",
              "    }\n",
              "</style>\n",
              "<table border=\"1\" class=\"dataframe\">\n",
              "  <thead>\n",
              "    <tr style=\"text-align: right;\">\n",
              "      <th></th>\n",
              "      <th>Show</th>\n",
              "      <th>Sentiment</th>\n",
              "      <th>Review</th>\n",
              "    </tr>\n",
              "  </thead>\n",
              "  <tbody>\n",
              "    <tr>\n",
              "      <th>11201</th>\n",
              "      <td>Ramy</td>\n",
              "      <td>1</td>\n",
              "      <td>Ramy is still very funny and is as smart and e...</td>\n",
              "    </tr>\n",
              "    <tr>\n",
              "      <th>8818</th>\n",
              "      <td>You</td>\n",
              "      <td>1</td>\n",
              "      <td>You season three still remains television wort...</td>\n",
              "    </tr>\n",
              "    <tr>\n",
              "      <th>14732</th>\n",
              "      <td>The Great</td>\n",
              "      <td>1</td>\n",
              "      <td>Clever, irreverent, and touching, Season 2 est...</td>\n",
              "    </tr>\n",
              "    <tr>\n",
              "      <th>12391</th>\n",
              "      <td>Bridgerton</td>\n",
              "      <td>1</td>\n",
              "      <td>Still beautiful, still fun and still excellent.</td>\n",
              "    </tr>\n",
              "    <tr>\n",
              "      <th>5670</th>\n",
              "      <td>Love Life</td>\n",
              "      <td>1</td>\n",
              "      <td>Marcus doesn't always get it right, but this s...</td>\n",
              "    </tr>\n",
              "    <tr>\n",
              "      <th>...</th>\n",
              "      <td>...</td>\n",
              "      <td>...</td>\n",
              "      <td>...</td>\n",
              "    </tr>\n",
              "    <tr>\n",
              "      <th>8726</th>\n",
              "      <td>Invincible</td>\n",
              "      <td>1</td>\n",
              "      <td>For now, we'll simply say that Invincible is o...</td>\n",
              "    </tr>\n",
              "    <tr>\n",
              "      <th>6395</th>\n",
              "      <td>Loki</td>\n",
              "      <td>1</td>\n",
              "      <td>Nothing can prepare you for Loki, a mind-bendi...</td>\n",
              "    </tr>\n",
              "    <tr>\n",
              "      <th>8141</th>\n",
              "      <td>The Orville</td>\n",
              "      <td>1</td>\n",
              "      <td>While still pulling from the storytelling conv...</td>\n",
              "    </tr>\n",
              "    <tr>\n",
              "      <th>12127</th>\n",
              "      <td>The Witcher</td>\n",
              "      <td>1</td>\n",
              "      <td>Yet The Witcher is still a pleasure to watch.</td>\n",
              "    </tr>\n",
              "    <tr>\n",
              "      <th>12123</th>\n",
              "      <td>The Witcher</td>\n",
              "      <td>1</td>\n",
              "      <td>Season 2 is absolutely packed with action as w...</td>\n",
              "    </tr>\n",
              "  </tbody>\n",
              "</table>\n",
              "<p>100 rows × 3 columns</p>\n",
              "</div>"
            ],
            "text/plain": [
              "              Show  Sentiment  \\\n",
              "11201         Ramy          1   \n",
              "8818           You          1   \n",
              "14732    The Great          1   \n",
              "12391   Bridgerton          1   \n",
              "5670     Love Life          1   \n",
              "...            ...        ...   \n",
              "8726    Invincible          1   \n",
              "6395          Loki          1   \n",
              "8141   The Orville          1   \n",
              "12127  The Witcher          1   \n",
              "12123  The Witcher          1   \n",
              "\n",
              "                                                  Review  \n",
              "11201  Ramy is still very funny and is as smart and e...  \n",
              "8818   You season three still remains television wort...  \n",
              "14732  Clever, irreverent, and touching, Season 2 est...  \n",
              "12391    Still beautiful, still fun and still excellent.  \n",
              "5670   Marcus doesn't always get it right, but this s...  \n",
              "...                                                  ...  \n",
              "8726   For now, we'll simply say that Invincible is o...  \n",
              "6395   Nothing can prepare you for Loki, a mind-bendi...  \n",
              "8141   While still pulling from the storytelling conv...  \n",
              "12127      Yet The Witcher is still a pleasure to watch.  \n",
              "12123  Season 2 is absolutely packed with action as w...  \n",
              "\n",
              "[100 rows x 3 columns]"
            ]
          },
          "execution_count": 15,
          "metadata": {},
          "output_type": "execute_result"
        }
      ],
      "source": [
        "# Выбираем 100 самых неопределенных точек данных, разметку которых нужно выполнить вручную\n",
        "labeled_reviews_new = unlabeled_reviews.iloc[uncertainty.argsort()[:100]]\n",
        "unlabeled_reviews_new = unlabeled_reviews.iloc[uncertainty.argsort()[100:]]\n",
        "labeled_reviews_new\n"
      ]
    },
    {
      "cell_type": "markdown",
      "metadata": {
        "id": "drlV95Vrt5ES"
      },
      "source": [
        "#### Задача 3.\n",
        "\n",
        "Выполните разметку вручную отдельного подмножества выбранного датасета с помощью выбранного вами инструмента разметки."
      ]
    },
    {
      "cell_type": "code",
      "execution_count": 18,
      "metadata": {
        "id": "_iZqSDDOt9sW"
      },
      "outputs": [],
      "source": [
        "# Cохранение данных для ручной разметки\n",
        "labeled_reviews_new.to_csv(\"part_reviews.csv\", index=False)\n"
      ]
    },
    {
      "cell_type": "code",
      "execution_count": 20,
      "metadata": {
        "colab": {
          "base_uri": "https://localhost:8080/",
          "height": 424
        },
        "id": "07XVDy8-uJjK",
        "outputId": "c4b6cf5c-8a84-4ca6-a287-f6caa95076d7"
      },
      "outputs": [],
      "source": [
        "# Загрузка данных после ручной разметки\n",
        "labeled_reviews_new = pd.read_csv(\"part_reviews.csv\", engine=\"python\", encoding=\"utf-8\", on_bad_lines=\"skip\", encoding_errors=\"ignore\")\n"
      ]
    },
    {
      "cell_type": "code",
      "execution_count": 25,
      "metadata": {},
      "outputs": [
        {
          "data": {
            "text/html": [
              "<div>\n",
              "<style scoped>\n",
              "    .dataframe tbody tr th:only-of-type {\n",
              "        vertical-align: middle;\n",
              "    }\n",
              "\n",
              "    .dataframe tbody tr th {\n",
              "        vertical-align: top;\n",
              "    }\n",
              "\n",
              "    .dataframe thead th {\n",
              "        text-align: right;\n",
              "    }\n",
              "</style>\n",
              "<table border=\"1\" class=\"dataframe\">\n",
              "  <thead>\n",
              "    <tr style=\"text-align: right;\">\n",
              "      <th></th>\n",
              "      <th>Show</th>\n",
              "      <th>Sentiment</th>\n",
              "      <th>Review</th>\n",
              "    </tr>\n",
              "  </thead>\n",
              "  <tbody>\n",
              "    <tr>\n",
              "      <th>0</th>\n",
              "      <td>Ramy</td>\n",
              "      <td>1</td>\n",
              "      <td>Ramy is still very funny and is as smart and e...</td>\n",
              "    </tr>\n",
              "    <tr>\n",
              "      <th>1</th>\n",
              "      <td>You</td>\n",
              "      <td>1</td>\n",
              "      <td>You season three still remains television wort...</td>\n",
              "    </tr>\n",
              "    <tr>\n",
              "      <th>2</th>\n",
              "      <td>The Great</td>\n",
              "      <td>1</td>\n",
              "      <td>Clever, irreverent, and touching, Season 2 est...</td>\n",
              "    </tr>\n",
              "    <tr>\n",
              "      <th>3</th>\n",
              "      <td>Bridgerton</td>\n",
              "      <td>1</td>\n",
              "      <td>Still beautiful, still fun and still excellent.</td>\n",
              "    </tr>\n",
              "    <tr>\n",
              "      <th>4</th>\n",
              "      <td>Love Life</td>\n",
              "      <td>1</td>\n",
              "      <td>Marcus doesn't always get it right, but this s...</td>\n",
              "    </tr>\n",
              "    <tr>\n",
              "      <th>...</th>\n",
              "      <td>...</td>\n",
              "      <td>...</td>\n",
              "      <td>...</td>\n",
              "    </tr>\n",
              "    <tr>\n",
              "      <th>95</th>\n",
              "      <td>Invincible</td>\n",
              "      <td>1</td>\n",
              "      <td>For now, we'll simply say that Invincible is o...</td>\n",
              "    </tr>\n",
              "    <tr>\n",
              "      <th>96</th>\n",
              "      <td>Loki</td>\n",
              "      <td>1</td>\n",
              "      <td>Nothing can prepare you for Loki, a mind-bendi...</td>\n",
              "    </tr>\n",
              "    <tr>\n",
              "      <th>97</th>\n",
              "      <td>The Orville</td>\n",
              "      <td>1</td>\n",
              "      <td>While still pulling from the storytelling conv...</td>\n",
              "    </tr>\n",
              "    <tr>\n",
              "      <th>98</th>\n",
              "      <td>The Witcher</td>\n",
              "      <td>1</td>\n",
              "      <td>Yet The Witcher is still a pleasure to watch.</td>\n",
              "    </tr>\n",
              "    <tr>\n",
              "      <th>99</th>\n",
              "      <td>The Witcher</td>\n",
              "      <td>1</td>\n",
              "      <td>Season 2 is absolutely packed with action as w...</td>\n",
              "    </tr>\n",
              "  </tbody>\n",
              "</table>\n",
              "<p>100 rows × 3 columns</p>\n",
              "</div>"
            ],
            "text/plain": [
              "           Show  Sentiment                                             Review\n",
              "0          Ramy          1  Ramy is still very funny and is as smart and e...\n",
              "1           You          1  You season three still remains television wort...\n",
              "2     The Great          1  Clever, irreverent, and touching, Season 2 est...\n",
              "3    Bridgerton          1    Still beautiful, still fun and still excellent.\n",
              "4     Love Life          1  Marcus doesn't always get it right, but this s...\n",
              "..          ...        ...                                                ...\n",
              "95   Invincible          1  For now, we'll simply say that Invincible is o...\n",
              "96         Loki          1  Nothing can prepare you for Loki, a mind-bendi...\n",
              "97  The Orville          1  While still pulling from the storytelling conv...\n",
              "98  The Witcher          1      Yet The Witcher is still a pleasure to watch.\n",
              "99  The Witcher          1  Season 2 is absolutely packed with action as w...\n",
              "\n",
              "[100 rows x 3 columns]"
            ]
          },
          "execution_count": 25,
          "metadata": {},
          "output_type": "execute_result"
        }
      ],
      "source": [
        "labeled_reviews_new\n"
      ]
    },
    {
      "cell_type": "markdown",
      "metadata": {
        "id": "7XbsEN-zuT05"
      },
      "source": [
        "#### Задача 4.\n",
        "\n",
        "Объедините данные, размеченные вручную, с данными, размеченными на основе правил. Объедините два подмножества размеченных данных в один набор данных, сохранив при этом соответствующую структуру и целостность."
      ]
    },
    {
      "cell_type": "code",
      "execution_count": 26,
      "metadata": {
        "id": "jZgcphUuuVes"
      },
      "outputs": [],
      "source": [
        "labeled_reviews_united = pd.concat([labeled_reviews, labeled_reviews_new])\n"
      ]
    },
    {
      "cell_type": "code",
      "execution_count": 27,
      "metadata": {
        "colab": {
          "base_uri": "https://localhost:8080/",
          "height": 424
        },
        "id": "pA42zJSoudEa",
        "outputId": "48a90700-eafe-4cc1-f283-a2627cbbf620"
      },
      "outputs": [
        {
          "data": {
            "text/html": [
              "<div>\n",
              "<style scoped>\n",
              "    .dataframe tbody tr th:only-of-type {\n",
              "        vertical-align: middle;\n",
              "    }\n",
              "\n",
              "    .dataframe tbody tr th {\n",
              "        vertical-align: top;\n",
              "    }\n",
              "\n",
              "    .dataframe thead th {\n",
              "        text-align: right;\n",
              "    }\n",
              "</style>\n",
              "<table border=\"1\" class=\"dataframe\">\n",
              "  <thead>\n",
              "    <tr style=\"text-align: right;\">\n",
              "      <th></th>\n",
              "      <th>Show</th>\n",
              "      <th>Sentiment</th>\n",
              "      <th>Review</th>\n",
              "    </tr>\n",
              "  </thead>\n",
              "  <tbody>\n",
              "    <tr>\n",
              "      <th>14625</th>\n",
              "      <td>Forever</td>\n",
              "      <td>1</td>\n",
              "      <td>With a distinct brand of pitch-black humor, su...</td>\n",
              "    </tr>\n",
              "    <tr>\n",
              "      <th>10315</th>\n",
              "      <td>The Act</td>\n",
              "      <td>1</td>\n",
              "      <td>The series is so cleverly layered and edited t...</td>\n",
              "    </tr>\n",
              "    <tr>\n",
              "      <th>12603</th>\n",
              "      <td>The Queen's Gambit</td>\n",
              "      <td>0</td>\n",
              "      <td>While it is frustrating to see Black character...</td>\n",
              "    </tr>\n",
              "    <tr>\n",
              "      <th>3096</th>\n",
              "      <td>The Staircase</td>\n",
              "      <td>0</td>\n",
              "      <td>The problem is, in a good fictional crime stor...</td>\n",
              "    </tr>\n",
              "    <tr>\n",
              "      <th>2565</th>\n",
              "      <td>Waco</td>\n",
              "      <td>0</td>\n",
              "      <td>The show creates its own problems in telling t...</td>\n",
              "    </tr>\n",
              "    <tr>\n",
              "      <th>...</th>\n",
              "      <td>...</td>\n",
              "      <td>...</td>\n",
              "      <td>...</td>\n",
              "    </tr>\n",
              "    <tr>\n",
              "      <th>95</th>\n",
              "      <td>Invincible</td>\n",
              "      <td>1</td>\n",
              "      <td>For now, we'll simply say that Invincible is o...</td>\n",
              "    </tr>\n",
              "    <tr>\n",
              "      <th>96</th>\n",
              "      <td>Loki</td>\n",
              "      <td>1</td>\n",
              "      <td>Nothing can prepare you for Loki, a mind-bendi...</td>\n",
              "    </tr>\n",
              "    <tr>\n",
              "      <th>97</th>\n",
              "      <td>The Orville</td>\n",
              "      <td>1</td>\n",
              "      <td>While still pulling from the storytelling conv...</td>\n",
              "    </tr>\n",
              "    <tr>\n",
              "      <th>98</th>\n",
              "      <td>The Witcher</td>\n",
              "      <td>1</td>\n",
              "      <td>Yet The Witcher is still a pleasure to watch.</td>\n",
              "    </tr>\n",
              "    <tr>\n",
              "      <th>99</th>\n",
              "      <td>The Witcher</td>\n",
              "      <td>1</td>\n",
              "      <td>Season 2 is absolutely packed with action as w...</td>\n",
              "    </tr>\n",
              "  </tbody>\n",
              "</table>\n",
              "<p>7495 rows × 3 columns</p>\n",
              "</div>"
            ],
            "text/plain": [
              "                     Show  Sentiment  \\\n",
              "14625             Forever          1   \n",
              "10315             The Act          1   \n",
              "12603  The Queen's Gambit          0   \n",
              "3096        The Staircase          0   \n",
              "2565                 Waco          0   \n",
              "...                   ...        ...   \n",
              "95             Invincible          1   \n",
              "96                   Loki          1   \n",
              "97            The Orville          1   \n",
              "98            The Witcher          1   \n",
              "99            The Witcher          1   \n",
              "\n",
              "                                                  Review  \n",
              "14625  With a distinct brand of pitch-black humor, su...  \n",
              "10315  The series is so cleverly layered and edited t...  \n",
              "12603  While it is frustrating to see Black character...  \n",
              "3096   The problem is, in a good fictional crime stor...  \n",
              "2565   The show creates its own problems in telling t...  \n",
              "...                                                  ...  \n",
              "95     For now, we'll simply say that Invincible is o...  \n",
              "96     Nothing can prepare you for Loki, a mind-bendi...  \n",
              "97     While still pulling from the storytelling conv...  \n",
              "98         Yet The Witcher is still a pleasure to watch.  \n",
              "99     Season 2 is absolutely packed with action as w...  \n",
              "\n",
              "[7495 rows x 3 columns]"
            ]
          },
          "execution_count": 27,
          "metadata": {},
          "output_type": "execute_result"
        }
      ],
      "source": [
        "labeled_reviews_united\n"
      ]
    },
    {
      "cell_type": "markdown",
      "metadata": {
        "id": "jDU3rEIluk73"
      },
      "source": [
        "#### Задача 5.\n",
        "\n",
        "Обучите модель машинного обучения, используя объединенный набор размеченных данных. Разделите датасет на обучающий и тестовый наборы и используйте обучающий набор для обучения модели."
      ]
    },
    {
      "cell_type": "code",
      "execution_count": 28,
      "metadata": {
        "id": "v-8EpNg4unNK"
      },
      "outputs": [],
      "source": [
        "model, vect = train_model(labeled_reviews_united)\n"
      ]
    },
    {
      "cell_type": "code",
      "execution_count": 29,
      "metadata": {
        "colab": {
          "base_uri": "https://localhost:8080/",
          "height": 424
        },
        "id": "CrpXi4fNusdV",
        "outputId": "2373a577-97ac-454b-dd07-c57527830fc9"
      },
      "outputs": [
        {
          "data": {
            "text/html": [
              "<div>\n",
              "<style scoped>\n",
              "    .dataframe tbody tr th:only-of-type {\n",
              "        vertical-align: middle;\n",
              "    }\n",
              "\n",
              "    .dataframe tbody tr th {\n",
              "        vertical-align: top;\n",
              "    }\n",
              "\n",
              "    .dataframe thead th {\n",
              "        text-align: right;\n",
              "    }\n",
              "</style>\n",
              "<table border=\"1\" class=\"dataframe\">\n",
              "  <thead>\n",
              "    <tr style=\"text-align: right;\">\n",
              "      <th></th>\n",
              "      <th>Show</th>\n",
              "      <th>Sentiment</th>\n",
              "      <th>Review</th>\n",
              "    </tr>\n",
              "  </thead>\n",
              "  <tbody>\n",
              "    <tr>\n",
              "      <th>9384</th>\n",
              "      <td>The Haunting of Hill House</td>\n",
              "      <td>1</td>\n",
              "      <td>Like this year's best horror film Hereditary, ...</td>\n",
              "    </tr>\n",
              "    <tr>\n",
              "      <th>8525</th>\n",
              "      <td>Reacher</td>\n",
              "      <td>1</td>\n",
              "      <td>The television equivalent of an airport novel....</td>\n",
              "    </tr>\n",
              "    <tr>\n",
              "      <th>13132</th>\n",
              "      <td>The Crown</td>\n",
              "      <td>0</td>\n",
              "      <td>The show seriously falters with Diana... The C...</td>\n",
              "    </tr>\n",
              "    <tr>\n",
              "      <th>7719</th>\n",
              "      <td>The Boys</td>\n",
              "      <td>0</td>\n",
              "      <td>You finish each episode with a nasty taste in ...</td>\n",
              "    </tr>\n",
              "    <tr>\n",
              "      <th>4966</th>\n",
              "      <td>The Sex Lives of College Girls</td>\n",
              "      <td>1</td>\n",
              "      <td>A rare TV show that really delves into the mul...</td>\n",
              "    </tr>\n",
              "    <tr>\n",
              "      <th>...</th>\n",
              "      <td>...</td>\n",
              "      <td>...</td>\n",
              "      <td>...</td>\n",
              "    </tr>\n",
              "    <tr>\n",
              "      <th>1843</th>\n",
              "      <td>Yellowjackets</td>\n",
              "      <td>1</td>\n",
              "      <td>Gruesome, gripping and blackly comic, this tig...</td>\n",
              "    </tr>\n",
              "    <tr>\n",
              "      <th>11568</th>\n",
              "      <td>The Lincoln Lawyer</td>\n",
              "      <td>1</td>\n",
              "      <td>Some 10-episode shows seem stretched out, but ...</td>\n",
              "    </tr>\n",
              "    <tr>\n",
              "      <th>1355</th>\n",
              "      <td>Lisey's Story</td>\n",
              "      <td>0</td>\n",
              "      <td>Director Pablo Larraín and a splendid cast led...</td>\n",
              "    </tr>\n",
              "    <tr>\n",
              "      <th>3889</th>\n",
              "      <td>The White Lotus</td>\n",
              "      <td>1</td>\n",
              "      <td>The 'eat the rich' genre is pleasurable becaus...</td>\n",
              "    </tr>\n",
              "    <tr>\n",
              "      <th>5516</th>\n",
              "      <td>My Brilliant Friend</td>\n",
              "      <td>1</td>\n",
              "      <td>I hand it to series three of the TV adaptation...</td>\n",
              "    </tr>\n",
              "  </tbody>\n",
              "</table>\n",
              "<p>7395 rows × 3 columns</p>\n",
              "</div>"
            ],
            "text/plain": [
              "                                 Show  Sentiment  \\\n",
              "9384       The Haunting of Hill House          1   \n",
              "8525                          Reacher          1   \n",
              "13132                       The Crown          0   \n",
              "7719                         The Boys          0   \n",
              "4966   The Sex Lives of College Girls          1   \n",
              "...                               ...        ...   \n",
              "1843                    Yellowjackets          1   \n",
              "11568              The Lincoln Lawyer          1   \n",
              "1355                    Lisey's Story          0   \n",
              "3889                  The White Lotus          1   \n",
              "5516              My Brilliant Friend          1   \n",
              "\n",
              "                                                  Review  \n",
              "9384   Like this year's best horror film Hereditary, ...  \n",
              "8525   The television equivalent of an airport novel....  \n",
              "13132  The show seriously falters with Diana... The C...  \n",
              "7719   You finish each episode with a nasty taste in ...  \n",
              "4966   A rare TV show that really delves into the mul...  \n",
              "...                                                  ...  \n",
              "1843   Gruesome, gripping and blackly comic, this tig...  \n",
              "11568  Some 10-episode shows seem stretched out, but ...  \n",
              "1355   Director Pablo Larraín and a splendid cast led...  \n",
              "3889   The 'eat the rich' genre is pleasurable becaus...  \n",
              "5516   I hand it to series three of the TV adaptation...  \n",
              "\n",
              "[7395 rows x 3 columns]"
            ]
          },
          "execution_count": 29,
          "metadata": {},
          "output_type": "execute_result"
        }
      ],
      "source": [
        "reviews_test = unlabeled_reviews\n",
        "reviews_test\n"
      ]
    },
    {
      "cell_type": "code",
      "execution_count": 30,
      "metadata": {
        "colab": {
          "base_uri": "https://localhost:8080/"
        },
        "id": "ahKYRsxmuy-J",
        "outputId": "3e364d3b-b995-42ad-83bb-7b05f203c732"
      },
      "outputs": [
        {
          "data": {
            "text/plain": [
              "array([1, 1, 1, ..., 1, 1, 1], dtype=int64)"
            ]
          },
          "execution_count": 30,
          "metadata": {},
          "output_type": "execute_result"
        }
      ],
      "source": [
        "x_test = vect.transform(reviews_test['Review'])\n",
        "y_test_predicted = model.predict(x_test)\n",
        "y_test_predicted\n"
      ]
    },
    {
      "cell_type": "markdown",
      "metadata": {
        "id": "TvM1P6G7u4rl"
      },
      "source": [
        "#### Задача 6.\n",
        "\n",
        "Оценить эффективность обученной модели на тестовом датасете. Используйте подходящие метрики оценки. Интерпретируйте результаты и проанализируйте эффективность модели в решении задачи разметки."
      ]
    },
    {
      "cell_type": "code",
      "execution_count": 31,
      "metadata": {
        "colab": {
          "base_uri": "https://localhost:8080/"
        },
        "id": "wzsNKqAmu6GA",
        "outputId": "1b1e40a0-44eb-427c-bd98-14876513d9c0"
      },
      "outputs": [
        {
          "data": {
            "text/plain": [
              "0.9179509760751504"
            ]
          },
          "execution_count": 31,
          "metadata": {},
          "output_type": "execute_result"
        }
      ],
      "source": [
        "f1 = f1_score(reviews_test['Sentiment'], y_test_predicted)\n",
        "f1\n"
      ]
    }
  ],
  "metadata": {
    "colab": {
      "provenance": []
    },
    "kernelspec": {
      "display_name": "Python 3",
      "name": "python3"
    },
    "language_info": {
      "codemirror_mode": {
        "name": "ipython",
        "version": 3
      },
      "file_extension": ".py",
      "mimetype": "text/x-python",
      "name": "python",
      "nbconvert_exporter": "python",
      "pygments_lexer": "ipython3",
      "version": "3.12.2"
    }
  },
  "nbformat": 4,
  "nbformat_minor": 0
}
